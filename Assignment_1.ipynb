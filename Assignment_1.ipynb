{
  "cells": [
    {
      "cell_type": "markdown",
      "metadata": {
        "id": "OgttJCUbR5gl"
      },
      "source": [
        "## Question 1"
      ]
    },
    {
      "cell_type": "markdown",
      "metadata": {
        "id": "7yHjcoK7R5gr"
      },
      "source": [
        "- `Take two integer numbers and return their product. If the product is greater than 1000, then return their sum if product is less than 1000 return product value only.`\n",
        "\n"
      ]
    },
    {
      "cell_type": "code",
      "execution_count": null,
      "metadata": {
        "id": "cMfdhlO_R5gt"
      },
      "outputs": [],
      "source": [
        "# Please write The solution Here for above question 1:\n",
        "\n",
        "def mul_sum(n1,n2):\n",
        "  product = n1 * n2\n",
        "  if product > 1000:\n",
        "   return n1 + n2\n",
        "  else:\n",
        "    return product\n",
        "result = mul_sum(50,50)\n",
        "print(\"The product value:\",result)\n",
        "\n"
      ]
    },
    {
      "cell_type": "markdown",
      "metadata": {
        "id": "YuY2SfvbR5gv"
      },
      "source": [
        "## question 2"
      ]
    },
    {
      "cell_type": "markdown",
      "metadata": {
        "id": "vw5HJqgBR5gw"
      },
      "source": [
        "- `Given a range of the first 10 numbers, Iterate from the start number to the end number, and In each iteration print the sum of the current number and previous number`\n",
        "\n",
        "Expected output:\n",
        "-----------------\n",
        "    Printing current and previous number sum in a range(10)\n",
        "    Current Number 0 Previous Number  0  Sum:  0\n",
        "    Current Number 1 Previous Number  0  Sum:  1\n",
        "    Current Number 2 Previous Number  1  Sum:  3\n",
        "    Current Number 3 Previous Number  2  Sum:  5\n",
        "    Current Number 4 Previous Number  3  Sum:  7\n",
        "    Current Number 5 Previous Number  4  Sum:  9\n",
        "    Current Number 6 Previous Number  5  Sum:  11\n",
        "    Current Number 7 Previous Number  6  Sum:  13\n",
        "    Current Number 8 Previous Number  7  Sum:  15\n",
        "    Current Number 9 Previous Number  8  Sum:  17"
      ]
    },
    {
      "cell_type": "code",
      "execution_count": null,
      "metadata": {
        "id": "4SgPgfTIR5gx"
      },
      "outputs": [],
      "source": [
        "# Please write The solution Here for above question 2:\n",
        "print('printing current and previous number and their sum in a range(10)')\n",
        "previous_num = 0\n",
        "for i in range(1,10):\n",
        "  n_sum = previous_num + i\n",
        "  print('Current Number ', i, 'Previous Number', previous_num, 'sum: ', n_sum)\n",
        "  previous_num = i\n"
      ]
    },
    {
      "cell_type": "markdown",
      "metadata": {
        "id": "kMEHLGeOR5gy"
      },
      "source": [
        "## question 3"
      ]
    },
    {
      "cell_type": "markdown",
      "metadata": {
        "id": "vkibwO6tR5gy"
      },
      "source": [
        "Given a string and an integer number n, remove characters from a string starting from zero up to n and return a new string\n",
        "\n",
        "- Example :\n",
        "     `(\"pynative\", 4) so output must be tive.`\n",
        "     \n",
        "     `Note: n must be less than the length of the string.`"
      ]
    },
    {
      "cell_type": "code",
      "execution_count": null,
      "metadata": {
        "id": "cFiuQ0Q4R5gz"
      },
      "outputs": [],
      "source": [
        "# Please write The solution Here for above question 3:\n",
        "def remove_chars(word,n):\n",
        "    var1 = word[n:]\n",
        "    return var1\n",
        "print('result:',remove_chars('pynative',4))\n",
        "\n"
      ]
    },
    {
      "cell_type": "markdown",
      "metadata": {
        "id": "9GTlFeh4R5gz"
      },
      "source": [
        "## question 4"
      ]
    },
    {
      "cell_type": "markdown",
      "metadata": {
        "id": "bRV9UcZVR5g0"
      },
      "source": [
        "### `Given a list of numbers, return True if first and last number of a list is same`\n",
        "\n",
        "    Expected Output:\n",
        "    -------------------------------------\n",
        "\n",
        "    Given list is\n",
        "    a =  [10, 20, 30, 40, 10]\n",
        "    b = [10 , 20 , 30 , 40, 10 ]\n",
        "    result is True\n",
        "\n",
        "    Given list is  \n",
        "    a = [10, 20, 30, 40, 50]\n",
        "    b = [11 , 21 , 31 , 41 , 51 ]\n",
        "    result is False"
      ]
    },
    {
      "cell_type": "code",
      "execution_count": null,
      "metadata": {
        "id": "yeadKORWR5g0"
      },
      "outputs": [],
      "source": [
        "# Please write The solution Here for above question 4:\n",
        "def fst_last_same(lst):\n",
        "  if len (lst)==0:\n",
        "    return False\n",
        "  return lst[0]==lst[-1]\n",
        "a1 = [10,20,30,40,10]\n",
        "a2 = [10,20,30,40,50]\n",
        "b1 = [10,20,30,40,50]\n",
        "b2 = [11,21,31,41,51]\n",
        "result1 = fst_last_same(a1) and fst_last_same(b1)\n",
        "print(f'given list is \\na={a1}\\nb={b1}\\n result is {result1}')\n",
        "result2 = fst_last_same(b1) and fst_last_same(b2)\n",
        "print(f'given list is \\na={a2}\\nb={b2}\\n result is {result2}')\n",
        "\n"
      ]
    },
    {
      "cell_type": "markdown",
      "metadata": {
        "id": "7r2l1qE6R5g1"
      },
      "source": [
        "## question 5"
      ]
    },
    {
      "cell_type": "markdown",
      "metadata": {
        "id": "omwCsL6gR5g1"
      },
      "source": [
        "### Given a two Python list. Iterate both lists simultaneously such that list1 should display item in original order and list2 in reverse order\n",
        "\n",
        "    list1 = [10, 20, 30, 40]\n",
        "    list2 = [100, 200, 300, 400]\n",
        "\n",
        "\n",
        "    Expected output:\n",
        "    -----------------------------\n",
        "    10 400\n",
        "    20 300\n",
        "    30 200\n",
        "    40 100"
      ]
    },
    {
      "cell_type": "code",
      "execution_count": null,
      "metadata": {
        "id": "6GiWF-m9R5g1"
      },
      "outputs": [],
      "source": [
        "# Please write The solution Here for above question 5:\n",
        " list1 = [10, 20, 30, 40]\n",
        "list2 = [100, 200, 300, 400]\n",
        "for x,y in zip(list1,list2[::-1]):\n",
        "  print(x,y)\n"
      ]
    },
    {
      "cell_type": "markdown",
      "metadata": {
        "id": "aRbkgsA3R5g1"
      },
      "source": [
        "## question 6"
      ]
    },
    {
      "cell_type": "markdown",
      "metadata": {
        "id": "6mFTV-CIR5g2"
      },
      "source": [
        "### Remove empty strings from the list of strings\n",
        "\n",
        "\n",
        "    list1 = [\"Mike\", \"\", \"Emma\", \"Kelly\", \"\", \"Brad\"]\n",
        "\n",
        "    Expected output:\n",
        "    ----------------------\n",
        "\n",
        "    [\"Mike\", \"Emma\", \"Kelly\", \"Brad\"]\n"
      ]
    },
    {
      "cell_type": "code",
      "execution_count": null,
      "metadata": {
        "id": "FhzsB9RoR5g3"
      },
      "outputs": [],
      "source": [
        "# Please write The solution Here for above question 6:\n",
        "list1 = [\"Mike\", \"\", \"Emma\", \"Kelly\", \"\", \"Brad\"]\n",
        "res = list(filter(None,list1))\n",
        "print(res)\n"
      ]
    },
    {
      "cell_type": "code",
      "execution_count": null,
      "metadata": {
        "id": "1UbveAW8R5g3"
      },
      "outputs": [],
      "source": [
        "# hr.viharatech@gmail.com"
      ]
    }
  ],
  "metadata": {
    "kernelspec": {
      "display_name": "Python 3 (ipykernel)",
      "language": "python",
      "name": "python3"
    },
    "language_info": {
      "codemirror_mode": {
        "name": "ipython",
        "version": 3
      },
      "file_extension": ".py",
      "mimetype": "text/x-python",
      "name": "python",
      "nbconvert_exporter": "python",
      "pygments_lexer": "ipython3",
      "version": "3.11.5"
    },
    "colab": {
      "provenance": []
    }
  },
  "nbformat": 4,
  "nbformat_minor": 0
}