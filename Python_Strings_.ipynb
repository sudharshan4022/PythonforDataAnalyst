{
  "cells": [
    {
      "cell_type": "markdown",
      "id": "b5fabd6b",
      "metadata": {
        "id": "b5fabd6b"
      },
      "source": [
        "<a href=\"https://www.viharatech.com\"><img src=\"https://miro.medium.com/v2/resize:fit:828/format:webp/1*on2Bpj6A5gfd-CzaFOAZRA.jpeg\"></a>\n",
        "\n",
        "\n",
        "- `Welcome to our interactive learning session! In this Jupyter notebook, you'll find a series of questions related to Python String Concept. To maximize your learning, please write Python code in the cell below each question and execute it. This hands-on practice will help reinforce your understanding of the concepts. Feel free to reach out if you have any questions or need assistance. Happy coding! 💻🐍 `"
      ]
    },
    {
      "cell_type": "markdown",
      "id": "db689fc2",
      "metadata": {
        "id": "db689fc2"
      },
      "source": [
        "### Question 1: Write a Python program to count the number of characters in a string without using len function.\n",
        "\n",
        "- `sample input : `\n",
        "    - `var = 'python java'`\n",
        "- `sample output :`\n",
        "    - `result : 11`"
      ]
    },
    {
      "cell_type": "code",
      "execution_count": null,
      "id": "c9ce9180",
      "metadata": {
        "id": "c9ce9180"
      },
      "outputs": [],
      "source": [
        "# Please write The solution Here for above question 1:\n",
        "var = 'python java'\n",
        "count = 0\n",
        "for i in var:\n",
        "  count = count+1\n",
        "print('result: ',count)\n"
      ]
    },
    {
      "cell_type": "markdown",
      "id": "46f069cc",
      "metadata": {
        "id": "46f069cc"
      },
      "source": [
        "### Question 2: Write a Python program to reverse a string without using [::-1]\n",
        "\n",
        "- `sample input : `\n",
        "    - `var = 'python'`\n",
        "- `sample output :`\n",
        "    - `result : nohtyp`"
      ]
    },
    {
      "cell_type": "code",
      "execution_count": null,
      "id": "2cde3dcc",
      "metadata": {
        "id": "2cde3dcc"
      },
      "outputs": [],
      "source": [
        "# Please write The solution Here for above question 2:\n",
        "var ='python'\n",
        "res = ''\n",
        "for i in var:\n",
        "  res = i +res\n",
        "print('result:',res)\n"
      ]
    },
    {
      "cell_type": "markdown",
      "id": "0f3a2ef5",
      "metadata": {
        "id": "0f3a2ef5"
      },
      "source": [
        "### Question 3: Write a Python program to check if a string is a palindrome don't use [::-1].\n",
        "\n",
        "- `sample input : `\n",
        "    - `var = 'NUN'`\n",
        "- `sample output :`\n",
        "    - `result : It is a Palindrome`\n",
        "    \n",
        "- `palindrome concept = https://www.dictionary.com/e/palindromic-word/#:~:text=A%20palindrome%20is%20a%20word,roots%20in%20the%20early%201600s.`"
      ]
    },
    {
      "cell_type": "code",
      "execution_count": null,
      "id": "74b9f01a",
      "metadata": {
        "id": "74b9f01a"
      },
      "outputs": [],
      "source": [
        "# Please write The solution Here for above question 3:\n",
        "var = 'NUN'\n",
        "res = ''\n",
        "for i in var:\n",
        "  res += i\n",
        "if (var==res):\n",
        "  print('result : it is a pilindrome')\n",
        "else:\n",
        "  print('result : no its not a pillindrome')"
      ]
    },
    {
      "cell_type": "markdown",
      "id": "98e0fc60",
      "metadata": {
        "id": "98e0fc60"
      },
      "source": [
        "### Question 4: Write a Python program to find the most common character in a string.\n",
        "\n",
        "- `sample input : `\n",
        "    - `var = 'Hello world '`\n",
        "- `sample output :`\n",
        "    - `result : l, because l is repeating 3 times `"
      ]
    },
    {
      "cell_type": "code",
      "execution_count": null,
      "id": "d9aa4ca6",
      "metadata": {
        "id": "d9aa4ca6"
      },
      "outputs": [],
      "source": [
        "# Please write The solution Here for above question 4:\n",
        "\n",
        "\n"
      ]
    },
    {
      "cell_type": "markdown",
      "id": "17eb44eb",
      "metadata": {
        "id": "17eb44eb"
      },
      "source": [
        "### Question 5: Write a Python program to check if two strings are anagrams.\n",
        "\n",
        "- `sample input : `\n",
        "    - `var1 = 'listen'`\n",
        "    - `var2 = 'silent'`\n",
        "- `sample output :`\n",
        "    - `result : both are anagram because characters in var1 should present in var2 `"
      ]
    },
    {
      "cell_type": "code",
      "execution_count": null,
      "id": "29f0e87e",
      "metadata": {
        "id": "29f0e87e"
      },
      "outputs": [],
      "source": [
        "# Please write The solution Here for above question 5:\n",
        "var1 = 'listen'\n",
        "var2 = 'silent'\n",
        "if len(var1)!=len(var2):\n",
        "  print('result: no its not anagrams')\n",
        "else:\n",
        "  if sorted (var1)==sorted(var2):\n",
        "     print('result : both are anagram because characters in var1 should present in var2')\n",
        "  else:\n",
        "    print('result : not anagrams')\n"
      ]
    },
    {
      "cell_type": "markdown",
      "id": "fac17884",
      "metadata": {
        "id": "fac17884"
      },
      "source": [
        "### Question 6: Write a Python program to remove all the vowels from a string.\n",
        "\n",
        "- `sample input : `\n",
        "    - `var = 'python'`\n",
        "- `sample output :`\n",
        "    - `result : pythn , because vowels are [AEIOUaeiou]`"
      ]
    },
    {
      "cell_type": "code",
      "execution_count": null,
      "id": "f4b33095",
      "metadata": {
        "id": "f4b33095"
      },
      "outputs": [],
      "source": [
        "# Please write The solution Here for above question 6:\n",
        "var = 'python'\n",
        "vowels = 'a,ei,o,u,A,E,I,O,U'\n",
        "for i in var:\n",
        "  if i in vowels:\n",
        "    var = var.replace(i,'')\n",
        "print('result :',var,',''because vowels are [AEIOUaeiou]')\n"
      ]
    },
    {
      "cell_type": "markdown",
      "id": "2170d6f4",
      "metadata": {
        "id": "2170d6f4"
      },
      "source": [
        "### Question 7: Write a Python program to find the longest word in a string.\n",
        "\n",
        "- `sample input : `\n",
        "    - `var = 'python is Easy Language'`\n",
        "- `sample output :`\n",
        "    - `result : Language`"
      ]
    },
    {
      "cell_type": "code",
      "execution_count": null,
      "id": "f35de8b3",
      "metadata": {
        "id": "f35de8b3"
      },
      "outputs": [],
      "source": [
        "# Please write The solution Here for above question 7:\n",
        "var = 'python is Easy Language'\n",
        "variable = var.split()\n",
        "max=0\n",
        "for i in variable:\n",
        "  if len(i)>max:\n",
        "    max=len(i)\n",
        "    word=i\n",
        "print('result :',word)\n"
      ]
    },
    {
      "cell_type": "markdown",
      "id": "f349bdb7",
      "metadata": {
        "id": "f349bdb7"
      },
      "source": [
        "### Question 8: Write a Python program to capitalize the first letter of each word in a string [dont use built-in-function title].\n",
        "\n",
        "- `sample input : `\n",
        "    - `var = 'python is easy'`\n",
        "- `sample output :`\n",
        "    - `result : Python Is Easy`"
      ]
    },
    {
      "cell_type": "code",
      "execution_count": null,
      "id": "a1b4c4e6",
      "metadata": {
        "id": "a1b4c4e6"
      },
      "outputs": [],
      "source": [
        "# Please write The solution Here for above question 8:\n",
        "import string\n",
        "var = 'python is easy'\n",
        "print(string.capwords(var))\n"
      ]
    },
    {
      "cell_type": "markdown",
      "id": "d2770696",
      "metadata": {
        "id": "d2770696"
      },
      "source": [
        " Question 9: Write a Python program to find the frequency of each character in a string.\n",
        "\n",
        " sample input :\n",
        "  \n",
        "    - `var = 'sharuk khan'`\n",
        "- `sample output :`\n",
        "    - `result : {'s': 1, 'h': 2, 'a': 2, 'r': 1, 'u': 1, 'k': 2, ' ': 1, 'n': 1}`"
      ]
    },
    {
      "cell_type": "code",
      "execution_count": null,
      "id": "7fdc2e9c",
      "metadata": {
        "id": "7fdc2e9c"
      },
      "outputs": [],
      "source": [
        "# Please write The solution Here for above question 9:\n",
        "def char_frequency(s):\n",
        "    frequency = {}\n",
        "    for char in s:\n",
        "        if char in frequency:\n",
        "            frequency[char] += 1\n",
        "        else:\n",
        "            frequency[char] = 1\n",
        "    return frequency\n",
        "var = 'sharuk khan'\n",
        "result = char_frequency(var)\n",
        "print(\"result:\", result)\n"
      ]
    },
    {
      "cell_type": "markdown",
      "id": "5c9a3f09",
      "metadata": {
        "id": "5c9a3f09"
      },
      "source": [
        "### Question 10: write a python programme to find the sum of all the even characters based on Ascii values\n",
        "\n",
        "- `sample input : `\n",
        "    - `var = 'sharuk khan'`\n",
        "- `sample output :`\n",
        "    - `result : 464`\n"
      ]
    },
    {
      "cell_type": "code",
      "execution_count": null,
      "id": "57c0c30e",
      "metadata": {
        "id": "57c0c30e"
      },
      "outputs": [],
      "source": [
        "# Please write The solution Here for above question 10:\n",
        "\n",
        "\n"
      ]
    }
  ],
  "metadata": {
    "kernelspec": {
      "display_name": "Python 3 (ipykernel)",
      "language": "python",
      "name": "python3"
    },
    "language_info": {
      "codemirror_mode": {
        "name": "ipython",
        "version": 3
      },
      "file_extension": ".py",
      "mimetype": "text/x-python",
      "name": "python",
      "nbconvert_exporter": "python",
      "pygments_lexer": "ipython3",
      "version": "3.11.5"
    },
    "colab": {
      "provenance": []
    }
  },
  "nbformat": 4,
  "nbformat_minor": 5
}